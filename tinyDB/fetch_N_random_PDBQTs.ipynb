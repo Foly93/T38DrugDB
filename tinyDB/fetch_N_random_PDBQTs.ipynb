{
 "cells": [
  {
   "cell_type": "code",
   "execution_count": 1,
   "id": "bef613d1-597f-40b1-ace6-750f369e04ed",
   "metadata": {},
   "outputs": [],
   "source": [
    "import os\n",
    "import re\n",
    "import numpy\n",
    "import pandas\n",
    "import zipfile\n",
    "import argparse\n",
    "import tempfile\n",
    "import threading\n",
    "import subprocess\n",
    "from glob import glob\n",
    "from tqdm import tqdm\n",
    "from pathlib import Path\n",
    "from random import shuffle"
   ]
  },
  {
   "cell_type": "code",
   "execution_count": 21,
   "id": "bc04ec12-5068-4b65-a247-3e19b42011ef",
   "metadata": {},
   "outputs": [],
   "source": [
    "def read_shuffled_sample_compounds(input_file):\n",
    "    return [compound.strip().split(',') for compound in open(input_file)]\n",
    "\n",
    "def extract_resorted_pdbqt_archives(compounds,tranche):\n",
    "    indices = numpy.where(compounds == tranche)[0]\n",
    "    tranche_zincIDs = numpy.char.add(compounds[indices][:,1].astype(str), '.pdbqt')\n",
    "    tranche_zip = zipfile.ZipFile(f'./tinyPDBQT_filtered/{tranche}.zip', 'r')\n",
    "    pdbqt_fileslist = tranche_zip.namelist()\n",
    "    pdbqt_files = [tranche_zip.read(f'{zincID}') for zincID in sort_sublist_by_original_list(pdbqt_fileslist, tranche_zincIDs)]\n",
    "    return pdbqt_files\n",
    "\n",
    "def sort_sublist_by_original_list(full_list, sublist):\n",
    "    order_dict = {element: index for index, element in enumerate(full_list)}\n",
    "    return sorted(sublist, key=lambda x: order_dict[x])"
   ]
  },
  {
   "cell_type": "code",
   "execution_count": 20,
   "id": "7792eb60-ca9d-4211-881b-2dd4e6366d45",
   "metadata": {},
   "outputs": [
    {
     "name": "stderr",
     "output_type": "stream",
     "text": [
      "Extracting from IFAARN...: |████████████████████████████████████████████████████████████|149/149\n"
     ]
    },
    {
     "name": "stdout",
     "output_type": "stream",
     "text": [
      " Fetched 10000 Compounds from the PDBQT zip archives!\n"
     ]
    },
    {
     "name": "stderr",
     "output_type": "stream",
     "text": [
      "Fetching Compounds from zip...|████████████████████████████████████████████████████████████|10000/10000\n"
     ]
    }
   ],
   "source": [
    "parser = argparse.ArgumentParser(description='Extract random lines from a file by chance and print the last column.')\n",
    "parser.add_argument('-i','--input_file', type=str, required=True, help='Path to the input file containing the smiles String, the Tranche and the zinc-ID.')\n",
    "parser.add_argument('-N','--random_lines',type=int, default=100, help='Number of random compounds to be extraced from the compressed database.')\n",
    "parser.add_argument('-d','--outputDirectory',type=str, default='./tempPDBQT/', help='Output directory that will contain the random subsample of compounds.')\n",
    "\n",
    "# set argument variables\n",
    "args = parser.parse_args([\"-i\", \"./tinyT38DrugDB.csv\", \n",
    "                          \"-N\", \"10000\",\n",
    "                          \"-d\", \"./myPDBQTdockingFiles\"])\n",
    "input_file = args.input_file\n",
    "random_lines = args.random_lines\n",
    "outputDirectory = args.outputDirectory\n",
    "\n",
    "# subsample the N random compounds from the list of molecules\n",
    "compounds = pandas.read_csv(input_file).sample(random_lines).values\n",
    "tranches = numpy.unique(compounds[:,2])\n",
    "pdbqt_ligands = []\n",
    "\n",
    "progress_bar = tqdm(tranches, position=1, bar_format='{desc}|{bar:60}|{n}/{total} [{elapsed}<{remaining}]')\n",
    "for tranche in progress_bar:\n",
    "    progress_bar.set_description(f'Extracting from {tranche}...\\n')\n",
    "    pdbqt_ligands.extend(extract_resorted_pdbqt_archives(compounds,tranche))\n",
    "\n",
    "# writing compounds to files in specified directory\n",
    "Path(outputDirectory).mkdir(parents=True, exist_ok=True)\n",
    "for pdbqt_ligand in tqdm(pdbqt_ligands, desc=f'Writing Files to {outputDirectory}...\\n', bar_format='{desc}|{bar:60}|{n}/{total} [{elapsed}<{remaining}]'):\n",
    "    zincID = re.search('ZINC[0-9]+',str(pdbqt_ligand)).group(0)\n",
    "    with open(f'{outputDirectory}/{zincID}.pdbqt','wb') as outputFile:\n",
    "        outputFile.write(pdbqt_ligand)"
   ]
  }
 ],
 "metadata": {
  "kernelspec": {
   "display_name": "Python 3 (ipykernel)",
   "language": "python",
   "name": "python3"
  },
  "language_info": {
   "codemirror_mode": {
    "name": "ipython",
    "version": 3
   },
   "file_extension": ".py",
   "mimetype": "text/x-python",
   "name": "python",
   "nbconvert_exporter": "python",
   "pygments_lexer": "ipython3",
   "version": "3.11.7"
  }
 },
 "nbformat": 4,
 "nbformat_minor": 5
}
